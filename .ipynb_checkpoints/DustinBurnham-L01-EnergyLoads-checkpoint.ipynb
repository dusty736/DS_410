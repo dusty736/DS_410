{
 "cells": [
  {
   "cell_type": "markdown",
   "metadata": {},
   "source": [
    "# Lesson 1 Assignment - EnergyLoads\n",
    "## Author - Dustin Burnham"
   ]
  },
  {
   "cell_type": "markdown",
   "metadata": {},
   "source": [
    "### Instructions\n",
    "In this exercise you will use visualization and summary statistical methods to explore a data set. You will be looking for interesting aspects in these data. Specifically, you will explore an energy efficiency data set.\n",
    "\n",
    "This data set contains characteristics of over 750 buildings. The efficiency of the building is measured as either heating load or cooling load. Your goal is to find **three interesting relationships within the variables** which help you understand the energy efficiency of these buildings.\n",
    "\n",
    "The exercise is deliberately open-ended. Whenever you approach a new data set some open-ended exploration is required. Expect this exploration to be an iterative process. You may need to try several ideas before you find truly interesting relationships.\n",
    "\n",
    "The key points come from examining charts and summary statistics based on distribution Heating Load and Cooling Load. \n",
    "<font color=\"blue\">At the end of this notebook include Markdown cells outlining your 3 key points.</font>\n",
    "\n",
    "Example description:  The heating load of buildings depends on ... Evidence for this relationship can be seen by ... in the figure and by noting .... in the table above. \n"
   ]
  },
  {
   "cell_type": "markdown",
   "metadata": {},
   "source": [
    "#### Tip: \n",
    "There are no categorical variables in this data set. There are two numeric variables, Orientation and Glazing Area Distribution, with only 4 and 2 discrete values. You can convert these integer values to factors and examine the effect on the distribution of Heating Load and Cooling Load."
   ]
  },
  {
   "cell_type": "code",
   "execution_count": 1,
   "metadata": {},
   "outputs": [],
   "source": [
    "# Import libraries\n",
    "import pandas as pd\n",
    "import numpy as np\n",
    "%matplotlib inline\n",
    "from matplotlib import pyplot as plt\n",
    "import seaborn as sns"
   ]
  },
  {
   "cell_type": "code",
   "execution_count": 2,
   "metadata": {},
   "outputs": [],
   "source": [
    "# Load Data\n",
    "fileName = \"https://library.startlearninglabs.uw.edu/DATASCI410/Datasets/EnergyEfficiencyData.csv\"\n",
    "energy = pd.read_csv(fileName)"
   ]
  },
  {
   "cell_type": "code",
   "execution_count": 3,
   "metadata": {
    "scrolled": true
   },
   "outputs": [
    {
     "data": {
      "text/plain": [
       "Relative Compactness         float64\n",
       "Surface Area                 float64\n",
       "Wall Area                    float64\n",
       "Roof Area                    float64\n",
       "Overall Height               float64\n",
       "Orientation                    int64\n",
       "Glazing Area                 float64\n",
       "Glazing Area Distribution      int64\n",
       "Heating Load                 float64\n",
       "Cooling Load                 float64\n",
       "dtype: object"
      ]
     },
     "execution_count": 3,
     "metadata": {},
     "output_type": "execute_result"
    }
   ],
   "source": [
    "# Check out the data types\n",
    "energy.dtypes"
   ]
  },
  {
   "cell_type": "code",
   "execution_count": 4,
   "metadata": {},
   "outputs": [],
   "source": [
    "# Try plotting to look for relationships\n",
    "\n",
    "#plt.scatter(energy.loc[:,\"Overall Height\"], energy.loc[:,\"Cooling Load\"],color='k')\n",
    "#plt.scatter(energy.loc[:,\"Relative Compactness\"], energy.loc[:,\"Heating Load\"],color='r')\n",
    "#plt.hist(energy.loc[:,\"Relative Compactness\"])\n",
    "#plt.hist(energy.loc[:,\"Surface Area\"], bins=30)\n",
    "#plt.hist(energy.loc[:,\"Wall Area\"], bins=30) # Maybe\n",
    "#plt.hist(energy.loc[:,\"Roof Area\"])\n",
    "#plt.hist(energy.loc[:,\"Orientation\"])\n",
    "#plt.hist(energy.loc[:,\"Glazing Area\"])\n",
    "#plt.hist(energy.loc[:,\"Glazing Area Distribution\"])\n",
    "#plt.hist(energy.loc[:,\"Heating Load\"])\n",
    "#plt.hist(energy.loc[:,\"Cooling Load\"])\n",
    "\n",
    "#plt.show()"
   ]
  },
  {
   "cell_type": "code",
   "execution_count": 5,
   "metadata": {
    "scrolled": true
   },
   "outputs": [
    {
     "data": {
      "image/png": "[encoded data removed]",
      "text/plain": [
       "<Figure size 432x288 with 1 Axes>"
      ]
     },
     "metadata": {},
     "output_type": "display_data"
    }
   ],
   "source": [
    "plt.hist(energy[\"Heating Load\"], color='k', bins=30)\n",
    "plt.xlabel(\"Heating Load\")\n",
    "plt.ylabel(\"Count\")\n",
    "plt.title(\"Heating Load Histogram\")\n",
    "plt.show()"
   ]
  },
  {
   "cell_type": "markdown",
   "metadata": {},
   "source": [
    "## Interesting Relationship 1: Overall Height\n",
    "</br>\n",
    "My first investigation will be to see how overall height effects the heating load.  To begin I will look at the data using a simple box plot showing heating load vs. the two overall height categories.  What we observe for the two different height classifications, is that they have significantly different heating loads.  The smaller overall height has a smaller heating load, and the larger overall height has a larger heating load.  There is notably not much overlap as well.  Only the whiskers of this plot overlap, the IQRs are non-overlapping.  To investigate further, I will look at descriptive statistics of the heating load grouped by overall height.  Namely the median, standard deviation, count, minimum, and maximum values.  The median values differ by multiple standard deviations, so I believe the overall height definitely affects the energy efficiency of a building.  The statistics can be viewed in the table below."
   ]
  },
  {
   "cell_type": "code",
   "execution_count": 6,
   "metadata": {},
   "outputs": [
    {
     "data": {
      "text/html": [
       "<div>\n",
       "<style scoped>\n",
       "    .dataframe tbody tr th:only-of-type {\n",
       "        vertical-align: middle;\n",
       "    }\n",
       "\n",
       "    .dataframe tbody tr th {\n",
       "        vertical-align: top;\n",
       "    }\n",
       "\n",
       "    .dataframe thead tr th {\n",
       "        text-align: left;\n",
       "    }\n",
       "\n",
       "    .dataframe thead tr:last-of-type th {\n",
       "        text-align: right;\n",
       "    }\n",
       "</style>\n",
       "<table border=\"1\" class=\"dataframe\">\n",
       "  <thead>\n",
       "    <tr>\n",
       "      <th></th>\n",
       "      <th colspan=\"5\" halign=\"left\">Heating Load</th>\n",
       "    </tr>\n",
       "    <tr>\n",
       "      <th></th>\n",
       "      <th>median</th>\n",
       "      <th>std</th>\n",
       "      <th>count</th>\n",
       "      <th>min</th>\n",
       "      <th>max</th>\n",
       "    </tr>\n",
       "    <tr>\n",
       "      <th>Overall Height</th>\n",
       "      <th></th>\n",
       "      <th></th>\n",
       "      <th></th>\n",
       "      <th></th>\n",
       "      <th></th>\n",
       "    </tr>\n",
       "  </thead>\n",
       "  <tbody>\n",
       "    <tr>\n",
       "      <th>3.5</th>\n",
       "      <td>12.985</td>\n",
       "      <td>2.671730</td>\n",
       "      <td>384</td>\n",
       "      <td>6.01</td>\n",
       "      <td>19.52</td>\n",
       "    </tr>\n",
       "    <tr>\n",
       "      <th>7.0</th>\n",
       "      <td>31.675</td>\n",
       "      <td>5.954589</td>\n",
       "      <td>384</td>\n",
       "      <td>15.55</td>\n",
       "      <td>43.10</td>\n",
       "    </tr>\n",
       "  </tbody>\n",
       "</table>\n",
       "</div>"
      ],
      "text/plain": [
       "               Heating Load                              \n",
       "                     median       std count    min    max\n",
       "Overall Height                                           \n",
       "3.5                  12.985  2.671730   384   6.01  19.52\n",
       "7.0                  31.675  5.954589   384  15.55  43.10"
      ]
     },
     "execution_count": 6,
     "metadata": {},
     "output_type": "execute_result"
    }
   ],
   "source": [
    "# Descriptive statistics for heating load grouped by overall height.\n",
    "energy[['Overall Height', 'Heating Load']].groupby(['Overall Height']).agg(['median', 'std', 'count', 'min', 'max']).sort_values(by='Overall Height')"
   ]
  },
  {
   "cell_type": "code",
   "execution_count": 7,
   "metadata": {},
   "outputs": [
    {
     "data": {
      "image/png": "[encoded data removed]",
      "text/plain": [
       "<Figure size 432x432 with 1 Axes>"
      ]
     },
     "metadata": {},
     "output_type": "display_data"
    }
   ],
   "source": [
    "# Box plot of heating load grouped by overall height.\n",
    "fig = plt.figure(figsize=(6,6)) # Define plot area\n",
    "ax = fig.gca() # Define axis \n",
    "sns.set_style(\"whitegrid\")\n",
    "energy.loc[:,['Overall Height', 'Heating Load']].boxplot(by = 'Overall Height', ax=ax)\n",
    "ax.set_title('Box Plot of Heating Load by Overall Height') # Give the plot a main title\n",
    "ax.set_xlabel('Overall Height') # Set text for the x axis\n",
    "ax.set_ylabel('Heating Load')# Set text for y axis\n",
    "plt.show()"
   ]
  },
  {
   "cell_type": "markdown",
   "metadata": {},
   "source": [
    "## Interesting Relationship 2: Roof Area\n",
    "</br>\n",
    "The second relationship that I chose to investigate was the relationship between roof area and cooling load.  Once again I began by looking at a box plot of cooling area by the 4 measurements of roof area.  What I noticed was that the IQR for the cooling load stays relatively consistent for the first 3 roof area measurements, but experiences a sharp decline for the final and largest roof area.  After looking at the median, standard deviation, count, min, and max (seen in the roof area section), I think there is something here, but we will need to consolidate measurments with binning.  I think this because the count for each roof area measurement varies quite a bit, with the 220.5 measurement having just as many measurements as the other three categories.  Because of this I will group them into small and large roof categories and look at the statistics again.  After binning, the difference in cooling load is much more significant, with there only being whisker overlap.  I believe this relationship is significant because of the difference in the medians.  Each is multiple standard deviations from the other, so I would say the odds of us observing this relationship with 700+ data points is quite low."
   ]
  },
  {
   "cell_type": "code",
   "execution_count": 8,
   "metadata": {},
   "outputs": [
    {
     "data": {
      "text/plain": [
       "Text(0,0.5,'Cooling Load')"
      ]
     },
     "execution_count": 8,
     "metadata": {},
     "output_type": "execute_result"
    },
    {
     "data": {
      "image/png": "[encoded data removed]",
      "text/plain": [
       "<Figure size 432x432 with 1 Axes>"
      ]
     },
     "metadata": {},
     "output_type": "display_data"
    }
   ],
   "source": [
    "# Box plot of cooling load grouped by roof area.\n",
    "fig = plt.figure(figsize=(6,6)) # Define plot area\n",
    "ax = fig.gca() # Define axis \n",
    "sns.set_style(\"whitegrid\")\n",
    "energy.loc[:,['Roof Area', 'Cooling Load']].boxplot(by = 'Roof Area', ax=ax)\n",
    "ax.set_title('Box plot of cooling load by Roof Area') # Give the plot a main title\n",
    "ax.set_xlabel('Roof Area') # Set text for the x axis\n",
    "ax.set_ylabel('Cooling Load')# Set text for y axis"
   ]
  },
  {
   "cell_type": "code",
   "execution_count": 9,
   "metadata": {},
   "outputs": [
    {
     "data": {
      "text/html": [
       "<div>\n",
       "<style scoped>\n",
       "    .dataframe tbody tr th:only-of-type {\n",
       "        vertical-align: middle;\n",
       "    }\n",
       "\n",
       "    .dataframe tbody tr th {\n",
       "        vertical-align: top;\n",
       "    }\n",
       "\n",
       "    .dataframe thead tr th {\n",
       "        text-align: left;\n",
       "    }\n",
       "\n",
       "    .dataframe thead tr:last-of-type th {\n",
       "        text-align: right;\n",
       "    }\n",
       "</style>\n",
       "<table border=\"1\" class=\"dataframe\">\n",
       "  <thead>\n",
       "    <tr>\n",
       "      <th></th>\n",
       "      <th colspan=\"5\" halign=\"left\">Cooling Load</th>\n",
       "    </tr>\n",
       "    <tr>\n",
       "      <th></th>\n",
       "      <th>median</th>\n",
       "      <th>std</th>\n",
       "      <th>count</th>\n",
       "      <th>min</th>\n",
       "      <th>max</th>\n",
       "    </tr>\n",
       "    <tr>\n",
       "      <th>Roof Area</th>\n",
       "      <th></th>\n",
       "      <th></th>\n",
       "      <th></th>\n",
       "      <th></th>\n",
       "      <th></th>\n",
       "    </tr>\n",
       "  </thead>\n",
       "  <tbody>\n",
       "    <tr>\n",
       "      <th>110.25</th>\n",
       "      <td>29.73</td>\n",
       "      <td>3.603782</td>\n",
       "      <td>64</td>\n",
       "      <td>21.33</td>\n",
       "      <td>34.01</td>\n",
       "    </tr>\n",
       "    <tr>\n",
       "      <th>122.50</th>\n",
       "      <td>34.99</td>\n",
       "      <td>3.433696</td>\n",
       "      <td>128</td>\n",
       "      <td>25.16</td>\n",
       "      <td>40.99</td>\n",
       "    </tr>\n",
       "    <tr>\n",
       "      <th>147.00</th>\n",
       "      <td>31.65</td>\n",
       "      <td>6.336927</td>\n",
       "      <td>192</td>\n",
       "      <td>21.16</td>\n",
       "      <td>48.03</td>\n",
       "    </tr>\n",
       "    <tr>\n",
       "      <th>220.50</th>\n",
       "      <td>15.61</td>\n",
       "      <td>2.420797</td>\n",
       "      <td>384</td>\n",
       "      <td>10.90</td>\n",
       "      <td>22.73</td>\n",
       "    </tr>\n",
       "  </tbody>\n",
       "</table>\n",
       "</div>"
      ],
      "text/plain": [
       "          Cooling Load                              \n",
       "                median       std count    min    max\n",
       "Roof Area                                           \n",
       "110.25           29.73  3.603782    64  21.33  34.01\n",
       "122.50           34.99  3.433696   128  25.16  40.99\n",
       "147.00           31.65  6.336927   192  21.16  48.03\n",
       "220.50           15.61  2.420797   384  10.90  22.73"
      ]
     },
     "execution_count": 9,
     "metadata": {},
     "output_type": "execute_result"
    }
   ],
   "source": [
    "# Descriptive statistics of cooling load grouped by roof area.\n",
    "energy[['Roof Area', 'Cooling Load']].groupby(['Roof Area']).agg(['median', 'std', 'count', 'min', 'max']).sort_values(by='Roof Area')"
   ]
  },
  {
   "cell_type": "code",
   "execution_count": 10,
   "metadata": {},
   "outputs": [],
   "source": [
    "# Binning of roof area.  < 220.5 == \"Small Roof\".  Otherwise == \"Large Roof\"\n",
    "\n",
    "small_roof_flag = energy.loc[:,\"Roof Area\"] < 220.5\n",
    "\n",
    "energy.loc[small_roof_flag,\"Roof Area\"] = \"Small Roof\"\n",
    "energy.loc[~small_roof_flag,\"Roof Area\"] = \"Large Roof\""
   ]
  },
  {
   "cell_type": "code",
   "execution_count": 11,
   "metadata": {},
   "outputs": [
    {
     "data": {
      "text/html": [
       "<div>\n",
       "<style scoped>\n",
       "    .dataframe tbody tr th:only-of-type {\n",
       "        vertical-align: middle;\n",
       "    }\n",
       "\n",
       "    .dataframe tbody tr th {\n",
       "        vertical-align: top;\n",
       "    }\n",
       "\n",
       "    .dataframe thead tr th {\n",
       "        text-align: left;\n",
       "    }\n",
       "\n",
       "    .dataframe thead tr:last-of-type th {\n",
       "        text-align: right;\n",
       "    }\n",
       "</style>\n",
       "<table border=\"1\" class=\"dataframe\">\n",
       "  <thead>\n",
       "    <tr>\n",
       "      <th></th>\n",
       "      <th colspan=\"5\" halign=\"left\">Cooling Load</th>\n",
       "    </tr>\n",
       "    <tr>\n",
       "      <th></th>\n",
       "      <th>median</th>\n",
       "      <th>std</th>\n",
       "      <th>count</th>\n",
       "      <th>min</th>\n",
       "      <th>max</th>\n",
       "    </tr>\n",
       "    <tr>\n",
       "      <th>Roof Area</th>\n",
       "      <th></th>\n",
       "      <th></th>\n",
       "      <th></th>\n",
       "      <th></th>\n",
       "      <th></th>\n",
       "    </tr>\n",
       "  </thead>\n",
       "  <tbody>\n",
       "    <tr>\n",
       "      <th>Large Roof</th>\n",
       "      <td>15.610</td>\n",
       "      <td>2.420797</td>\n",
       "      <td>384</td>\n",
       "      <td>10.90</td>\n",
       "      <td>22.73</td>\n",
       "    </tr>\n",
       "    <tr>\n",
       "      <th>Small Roof</th>\n",
       "      <td>33.135</td>\n",
       "      <td>5.472439</td>\n",
       "      <td>384</td>\n",
       "      <td>21.16</td>\n",
       "      <td>48.03</td>\n",
       "    </tr>\n",
       "  </tbody>\n",
       "</table>\n",
       "</div>"
      ],
      "text/plain": [
       "           Cooling Load                              \n",
       "                 median       std count    min    max\n",
       "Roof Area                                            \n",
       "Large Roof       15.610  2.420797   384  10.90  22.73\n",
       "Small Roof       33.135  5.472439   384  21.16  48.03"
      ]
     },
     "execution_count": 11,
     "metadata": {},
     "output_type": "execute_result"
    }
   ],
   "source": [
    "# Descriptive statistics of cooling load grouped by roof area after binning.\n",
    "energy[['Roof Area', 'Cooling Load']].groupby(['Roof Area']).agg(['median', 'std', 'count', 'min', 'max'])"
   ]
  },
  {
   "cell_type": "code",
   "execution_count": 12,
   "metadata": {},
   "outputs": [
    {
     "data": {
      "text/plain": [
       "Text(0,0.5,'Cooling Load')"
      ]
     },
     "execution_count": 12,
     "metadata": {},
     "output_type": "execute_result"
    },
    {
     "data": {
      "image/png": "[encoded data removed]",
      "text/plain": [
       "<Figure size 432x432 with 1 Axes>"
      ]
     },
     "metadata": {},
     "output_type": "display_data"
    }
   ],
   "source": [
    "# Box plots of cooling load grouped by roof area after binning.\n",
    "fig = plt.figure(figsize=(6,6)) # Define plot area\n",
    "ax = fig.gca() # Define axis \n",
    "sns.set_style(\"whitegrid\")\n",
    "energy.loc[:,['Roof Area', 'Cooling Load']].boxplot(by = 'Roof Area', ax=ax)\n",
    "ax.set_title('Box plot of cooling load by Roof Area') # Give the plot a main title\n",
    "ax.set_xlabel('Roof Area') # Set text for the x axis\n",
    "ax.set_ylabel('Cooling Load')# Set text for y axis"
   ]
  },
  {
   "cell_type": "markdown",
   "metadata": {},
   "source": [
    "## Interesting Relationship 3: Wall Area\n",
    "</br>\n",
    "My next thought for what might affect energy efficiency is the wall area factor.  To begin I made box plots, a histogram of the wall area, and viewed the unique values for the wall area.  Wall area comes in increments of 24.5.  After looking at the counts, I thought these values could be binned to make the increments more comparable.  I made equal sized bins and gave them labels of small, medium-small, medium, medium-large, large.  These bins consolidated the unique values into 5 bins.  A key characteristic that I noticed in the median cooling load definitely changes as the wall area changes.  However the trend is not consistent, so that leads me to believe that this change we see might be the result of a confounding variable.  Additionally, there is a significant amount of overlap with the IQR, and as a result I would say there is no obvious visual statistical significance in this relationship.  More testing is necessary.  The before binning and after binning descriptive statistics are in the two tables of the wall area section of this notebook"
   ]
  },
  {
   "cell_type": "code",
   "execution_count": 13,
   "metadata": {},
   "outputs": [
    {
     "data": {
      "text/plain": [
       "array([294. , 318.5, 343. , 416.5, 245. , 269.5, 367.5])"
      ]
     },
     "execution_count": 13,
     "metadata": {},
     "output_type": "execute_result"
    }
   ],
   "source": [
    "energy['Wall Area'].unique()"
   ]
  },
  {
   "cell_type": "code",
   "execution_count": 14,
   "metadata": {},
   "outputs": [
    {
     "data": {
      "image/png": "[encoded data removed]",
      "text/plain": [
       "<Figure size 432x288 with 1 Axes>"
      ]
     },
     "metadata": {},
     "output_type": "display_data"
    }
   ],
   "source": [
    "# Distribution of wall area measurements\n",
    "plt.hist(energy[\"Wall Area\"])\n",
    "plt.xlabel(\"Wall Area\")\n",
    "plt.ylabel(\"Count\")\n",
    "plt.title(\"Wall Area Histogram\")\n",
    "plt.show()"
   ]
  },
  {
   "cell_type": "code",
   "execution_count": 15,
   "metadata": {},
   "outputs": [
    {
     "data": {
      "text/plain": [
       "Text(0,0.5,'Cooling Load')"
      ]
     },
     "execution_count": 15,
     "metadata": {},
     "output_type": "execute_result"
    },
    {
     "data": {
      "image/png": "[encoded data removed]",
      "text/plain": [
       "<Figure size 432x432 with 1 Axes>"
      ]
     },
     "metadata": {},
     "output_type": "display_data"
    }
   ],
   "source": [
    "# Box plot of cooling load grouped by wall area.\n",
    "fig = plt.figure(figsize=(6,6)) # Define plot area\n",
    "ax = fig.gca() # Define axis \n",
    "sns.set_style(\"whitegrid\")\n",
    "energy.loc[:,['Wall Area', 'Cooling Load']].boxplot(by = 'Wall Area', ax=ax)\n",
    "ax.set_title('Box plot of cooling load by Roof Area') # Give the plot a main title\n",
    "ax.set_xlabel('Roof Area') # Set text for the x axis\n",
    "ax.set_ylabel('Cooling Load')# Set text for y axis"
   ]
  },
  {
   "cell_type": "code",
   "execution_count": 16,
   "metadata": {},
   "outputs": [
    {
     "data": {
      "text/html": [
       "<div>\n",
       "<style scoped>\n",
       "    .dataframe tbody tr th:only-of-type {\n",
       "        vertical-align: middle;\n",
       "    }\n",
       "\n",
       "    .dataframe tbody tr th {\n",
       "        vertical-align: top;\n",
       "    }\n",
       "\n",
       "    .dataframe thead tr th {\n",
       "        text-align: left;\n",
       "    }\n",
       "\n",
       "    .dataframe thead tr:last-of-type th {\n",
       "        text-align: right;\n",
       "    }\n",
       "</style>\n",
       "<table border=\"1\" class=\"dataframe\">\n",
       "  <thead>\n",
       "    <tr>\n",
       "      <th></th>\n",
       "      <th colspan=\"5\" halign=\"left\">Cooling Load</th>\n",
       "    </tr>\n",
       "    <tr>\n",
       "      <th></th>\n",
       "      <th>median</th>\n",
       "      <th>std</th>\n",
       "      <th>count</th>\n",
       "      <th>min</th>\n",
       "      <th>max</th>\n",
       "    </tr>\n",
       "    <tr>\n",
       "      <th>Wall Area</th>\n",
       "      <th></th>\n",
       "      <th></th>\n",
       "      <th></th>\n",
       "      <th></th>\n",
       "      <th></th>\n",
       "    </tr>\n",
       "  </thead>\n",
       "  <tbody>\n",
       "    <tr>\n",
       "      <th>245.0</th>\n",
       "      <td>14.785</td>\n",
       "      <td>1.659840</td>\n",
       "      <td>64</td>\n",
       "      <td>10.90</td>\n",
       "      <td>17.32</td>\n",
       "    </tr>\n",
       "    <tr>\n",
       "      <th>269.5</th>\n",
       "      <td>14.955</td>\n",
       "      <td>1.502668</td>\n",
       "      <td>64</td>\n",
       "      <td>11.27</td>\n",
       "      <td>17.74</td>\n",
       "    </tr>\n",
       "    <tr>\n",
       "      <th>294.0</th>\n",
       "      <td>27.100</td>\n",
       "      <td>7.646257</td>\n",
       "      <td>192</td>\n",
       "      <td>11.73</td>\n",
       "      <td>36.86</td>\n",
       "    </tr>\n",
       "    <tr>\n",
       "      <th>318.5</th>\n",
       "      <td>27.885</td>\n",
       "      <td>7.973868</td>\n",
       "      <td>192</td>\n",
       "      <td>12.14</td>\n",
       "      <td>40.99</td>\n",
       "    </tr>\n",
       "    <tr>\n",
       "      <th>343.0</th>\n",
       "      <td>26.830</td>\n",
       "      <td>10.567328</td>\n",
       "      <td>128</td>\n",
       "      <td>16.67</td>\n",
       "      <td>48.03</td>\n",
       "    </tr>\n",
       "    <tr>\n",
       "      <th>367.5</th>\n",
       "      <td>15.105</td>\n",
       "      <td>1.384389</td>\n",
       "      <td>64</td>\n",
       "      <td>12.04</td>\n",
       "      <td>17.38</td>\n",
       "    </tr>\n",
       "    <tr>\n",
       "      <th>416.5</th>\n",
       "      <td>36.860</td>\n",
       "      <td>2.902604</td>\n",
       "      <td>64</td>\n",
       "      <td>29.40</td>\n",
       "      <td>40.85</td>\n",
       "    </tr>\n",
       "  </tbody>\n",
       "</table>\n",
       "</div>"
      ],
      "text/plain": [
       "          Cooling Load                               \n",
       "                median        std count    min    max\n",
       "Wall Area                                            \n",
       "245.0           14.785   1.659840    64  10.90  17.32\n",
       "269.5           14.955   1.502668    64  11.27  17.74\n",
       "294.0           27.100   7.646257   192  11.73  36.86\n",
       "318.5           27.885   7.973868   192  12.14  40.99\n",
       "343.0           26.830  10.567328   128  16.67  48.03\n",
       "367.5           15.105   1.384389    64  12.04  17.38\n",
       "416.5           36.860   2.902604    64  29.40  40.85"
      ]
     },
     "execution_count": 16,
     "metadata": {},
     "output_type": "execute_result"
    }
   ],
   "source": [
    "# Descriptive statistics of cooling load grouped by wall area.\n",
    "energy[['Wall Area', 'Cooling Load']].groupby(['Wall Area']).agg(['median', 'std', 'count', 'min', 'max'])"
   ]
  },
  {
   "cell_type": "code",
   "execution_count": 17,
   "metadata": {},
   "outputs": [],
   "source": [
    "# Binning of wall area\n",
    "\n",
    "wall_area = energy.loc[:,\"Wall Area\"]\n",
    "bins = 4\n",
    "\n",
    "bin_width = (max(wall_area) - min(wall_area))/bins\n",
    "min_bin1 = float('-inf')\n",
    "max_bin1 = 290.0\n",
    "max_bin2 = 300.0\n",
    "max_bin3 = 320.0\n",
    "max_bin4 = 350\n",
    "max_bin5 = float('inf')\n",
    "\n",
    "eqBinnedWA = np.empty(len(wall_area), object)\n",
    "eqBinnedWA[(min_bin1 < wall_area) & (wall_area <= max_bin1)] = \"small\"\n",
    "eqBinnedWA[(max_bin1 < wall_area) & (wall_area <= max_bin2)] = \"med-small\"\n",
    "eqBinnedWA[(max_bin2 < wall_area) & (wall_area <= max_bin3)] = \"medium\"\n",
    "eqBinnedWA[(max_bin3 < wall_area) & (wall_area <= max_bin4)] = \"med-large\"\n",
    "eqBinnedWA[(max_bin4 < wall_area) & (wall_area <= max_bin5)] = \"large\"\n",
    "\n",
    "\n",
    "energy.loc[:,\"Wall Area\"] = eqBinnedWA"
   ]
  },
  {
   "cell_type": "code",
   "execution_count": 18,
   "metadata": {},
   "outputs": [
    {
     "data": {
      "text/plain": [
       "Text(0,0.5,'Cooling Load')"
      ]
     },
     "execution_count": 18,
     "metadata": {},
     "output_type": "execute_result"
    },
    {
     "data": {
      "image/png": "[encoded data removed]",
      "text/plain": [
       "<Figure size 432x432 with 1 Axes>"
      ]
     },
     "metadata": {},
     "output_type": "display_data"
    }
   ],
   "source": [
    "# Box plot of cooling load grouped by wall area after binning.\n",
    "fig = plt.figure(figsize=(6,6)) # Define plot area\n",
    "ax = fig.gca() # Define axis \n",
    "sns.set_style(\"whitegrid\")\n",
    "energy.loc[:,['Wall Area', 'Cooling Load']].boxplot(by = 'Wall Area', ax=ax)\n",
    "ax.set_title('Box plot of cooling load by Roof Area') # Give the plot a main title\n",
    "ax.set_xlabel('Roof Area') # Set text for the x axis\n",
    "ax.set_ylabel('Cooling Load')# Set text for y axis"
   ]
  },
  {
   "cell_type": "code",
   "execution_count": 19,
   "metadata": {},
   "outputs": [
    {
     "data": {
      "text/html": [
       "<div>\n",
       "<style scoped>\n",
       "    .dataframe tbody tr th:only-of-type {\n",
       "        vertical-align: middle;\n",
       "    }\n",
       "\n",
       "    .dataframe tbody tr th {\n",
       "        vertical-align: top;\n",
       "    }\n",
       "\n",
       "    .dataframe thead tr th {\n",
       "        text-align: left;\n",
       "    }\n",
       "\n",
       "    .dataframe thead tr:last-of-type th {\n",
       "        text-align: right;\n",
       "    }\n",
       "</style>\n",
       "<table border=\"1\" class=\"dataframe\">\n",
       "  <thead>\n",
       "    <tr>\n",
       "      <th></th>\n",
       "      <th colspan=\"5\" halign=\"left\">Cooling Load</th>\n",
       "    </tr>\n",
       "    <tr>\n",
       "      <th></th>\n",
       "      <th>median</th>\n",
       "      <th>std</th>\n",
       "      <th>count</th>\n",
       "      <th>min</th>\n",
       "      <th>max</th>\n",
       "    </tr>\n",
       "    <tr>\n",
       "      <th>Wall Area</th>\n",
       "      <th></th>\n",
       "      <th></th>\n",
       "      <th></th>\n",
       "      <th></th>\n",
       "      <th></th>\n",
       "    </tr>\n",
       "  </thead>\n",
       "  <tbody>\n",
       "    <tr>\n",
       "      <th>large</th>\n",
       "      <td>23.390</td>\n",
       "      <td>10.861916</td>\n",
       "      <td>128</td>\n",
       "      <td>12.04</td>\n",
       "      <td>40.85</td>\n",
       "    </tr>\n",
       "    <tr>\n",
       "      <th>med-large</th>\n",
       "      <td>26.830</td>\n",
       "      <td>10.567328</td>\n",
       "      <td>128</td>\n",
       "      <td>16.67</td>\n",
       "      <td>48.03</td>\n",
       "    </tr>\n",
       "    <tr>\n",
       "      <th>med-small</th>\n",
       "      <td>27.100</td>\n",
       "      <td>7.646257</td>\n",
       "      <td>192</td>\n",
       "      <td>11.73</td>\n",
       "      <td>36.86</td>\n",
       "    </tr>\n",
       "    <tr>\n",
       "      <th>medium</th>\n",
       "      <td>27.885</td>\n",
       "      <td>7.973868</td>\n",
       "      <td>192</td>\n",
       "      <td>12.14</td>\n",
       "      <td>40.99</td>\n",
       "    </tr>\n",
       "    <tr>\n",
       "      <th>small</th>\n",
       "      <td>14.930</td>\n",
       "      <td>1.581022</td>\n",
       "      <td>128</td>\n",
       "      <td>10.90</td>\n",
       "      <td>17.74</td>\n",
       "    </tr>\n",
       "  </tbody>\n",
       "</table>\n",
       "</div>"
      ],
      "text/plain": [
       "          Cooling Load                               \n",
       "                median        std count    min    max\n",
       "Wall Area                                            \n",
       "large           23.390  10.861916   128  12.04  40.85\n",
       "med-large       26.830  10.567328   128  16.67  48.03\n",
       "med-small       27.100   7.646257   192  11.73  36.86\n",
       "medium          27.885   7.973868   192  12.14  40.99\n",
       "small           14.930   1.581022   128  10.90  17.74"
      ]
     },
     "execution_count": 19,
     "metadata": {},
     "output_type": "execute_result"
    }
   ],
   "source": [
    "energy[['Wall Area', 'Cooling Load']].groupby(['Wall Area']).agg(['median', 'std', 'count', 'min', 'max'])"
   ]
  },
  {
   "cell_type": "markdown",
   "metadata": {},
   "source": [
    "# Summary"
   ]
  },
  {
   "cell_type": "markdown",
   "metadata": {},
   "source": [
    "### Interesting Relationship 1: Overall Height\n",
    "</br>\n",
    "My first investigation will be to see how overall height effects the heating load.  To begin I will look at the data using a simple box plot showing heating load vs. the two overall height categories.  What we observe for the two different height classifications, is that they have significantly different heating loads.  The smaller overall height has a smaller heating load, and the larger overall height has a larger heating load.  There is notably not much overlap as well.  Only the whiskers of this plot overlap, the IQRs are non-overlapping.  To investigate further, I will look at descriptive statistics of the heating load grouped by overall height.  Namely the median, standard deviation, count, minimum, and maximum values.  The median values differ by multiple standard deviations, so I believe the overall height definitely affects the energy efficiency of a building.  The statistics can be viewed in the table below."
   ]
  },
  {
   "cell_type": "markdown",
   "metadata": {},
   "source": [
    "### Interesting Relationship 2: Roof Area\n",
    "</br>\n",
    "The second relationship that I chose to investigate was the relationship between roof area and cooling load.  Once again I began by looking at a box plot of cooling area by the 4 measurements of roof area.  What I noticed was that the IQR for the cooling load stays relatively consistent for the first 3 roof area measurements, but experiences a sharp decline for the final and largest roof area.  After looking at the median, standard deviation, count, min, and max (seen in the roof area section), I think there is something here, but we will need to consolidate measurments with binning.  I think this because the count for each roof area measurement varies quite a bit, with the 220.5 measurement having just as many measurements as the other three categories.  Because of this I will group them into small and large roof categories and look at the statistics again.  After binning, the difference in cooling load is much more significant, with there only being whisker overlap.  I believe this relationship is significant because of the difference in the medians.  Each is multiple standard deviations from the other, so I would say the odds of us observing this relationship with 700+ data points is quite low."
   ]
  },
  {
   "cell_type": "markdown",
   "metadata": {},
   "source": [
    "### Interesting Relationship 3: Wall Area\n",
    "</br>\n",
    "My next thought for what might affect energy efficiency is the wall area factor.  To begin I made box plots, a histogram of the wall area, and viewed the unique values for the wall area.  Wall area comes in increments of 24.5.  After looking at the counts, I thought these values could be binned to make the increments more comparable.  I made equal sized bins and gave them labels of small, medium-small, medium, medium-large, large.  These bins consolidated the unique values into 5 bins.  A key characteristic that I noticed in the median cooling load definitely changes as the wall area changes.  However the trend is not consistent, so that leads me to believe that this change we see might be the result of a confounding variable.  Additionally, there is a significant amount of overlap with the IQR, and as a result I would say there is no obvious visual statistical significance in this relationship.  More testing is necessary.  The before binning and after binning descriptive statistics are in the two tables of the wall area section of this notebook"
   ]
  },
  {
   "cell_type": "code",
   "execution_count": null,
   "metadata": {},
   "outputs": [],
   "source": []
  }
 ],
 "metadata": {
  "kernelspec": {
   "display_name": "Python 3",
   "language": "python",
   "name": "python3"
  },
  "language_info": {
   "codemirror_mode": {
    "name": "ipython",
    "version": 3
   },
   "file_extension": ".py",
   "mimetype": "text/x-python",
   "name": "python",
   "nbconvert_exporter": "python",
   "pygments_lexer": "ipython3",
   "version": "3.6.5"
  }
 },
 "nbformat": 4,
 "nbformat_minor": 2
}
