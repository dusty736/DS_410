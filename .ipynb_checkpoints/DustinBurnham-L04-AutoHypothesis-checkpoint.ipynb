{
 "cells": [
  {
   "cell_type": "markdown",
   "metadata": {},
   "source": [
    "# Lesson 4 Assignment - Automobile Price Hypothesis Testing\n",
    "## Author - Studentname"
   ]
  },
  {
   "cell_type": "markdown",
   "metadata": {},
   "source": [
    "### Instructions\n",
    "Test hypotheses for the price of automobiles:\n",
    "\n",
    "1. Compare and test the normality of the distributions of **price** and **log price**. <br/>\n",
    "Use both a graphical method and a formal test. Hint: remember these relationships will always be approximate.\n",
    "\n",
    "2. Test significance of **price (or log price)** stratified by \n",
    "a) **fuel type**, b) **aspiration**, and c) **rear vs. front wheel drive**. <br />Use both graphical methods and the formal test.\n",
    "\n",
    "3. Apply ANOVA and Tukey's HSD test to the auto price data to compare the **price (or log price** if closer to a normal distribution) of autos stratified by **body style**.\n",
    "\n",
    "4. Graphically explore the differences between the price conditioned by the categories of each variable. <br/>\n",
    "Hint: Make sure you have enough data for each category and drop categories with insufficient data.\n",
    "\n",
    "5. Use standard ANOVA and Tukey HSD to test the differences of these groups.\n"
   ]
  },
  {
   "cell_type": "markdown",
   "metadata": {},
   "source": [
    "#### Note: \n",
    "Please clearly outline the results of these tests with markdown text. Be sure your discussion includes narrative for your figures and tables so it is clear to the reader the importance of each bit of evidence."
   ]
  },
  {
   "cell_type": "code",
   "execution_count": 1,
   "metadata": {},
   "outputs": [],
   "source": [
    "# Cleaned up Dataset location\n",
    "fileName = \"https://library.startlearninglabs.uw.edu/DATASCI410/Datasets/Automobile%20price%20data%20_Raw_.csv\""
   ]
  },
  {
   "cell_type": "code",
   "execution_count": 2,
   "metadata": {},
   "outputs": [],
   "source": [
    "# Import libraries\n",
    "from __future__ import division \n",
    "\n",
    "import numpy as np\n",
    "import pandas as pd\n",
    "import scipy\n",
    "import scipy.stats as ss\n",
    "from matplotlib import pyplot as plt\n",
    "import seaborn\n",
    "import numpy.random as random\n",
    "from statsmodels.stats.multicomp import pairwise_tukeyhsd\n",
    "\n",
    "# Configure default plot style.\n",
    "seaborn.set_palette('muted')\n",
    "seaborn.set_style('ticks')\n",
    "%matplotlib inline"
   ]
  },
  {
   "cell_type": "code",
   "execution_count": 3,
   "metadata": {},
   "outputs": [],
   "source": [
    "# Import data\n",
    "cars = pd.read_csv(fileName)"
   ]
  },
  {
   "cell_type": "code",
   "execution_count": 4,
   "metadata": {},
   "outputs": [],
   "source": [
    "# Clean data of '?' entries.\n",
    "cars['price'] = pd.to_numeric(cars['price'], errors = 'coerce')\n",
    "cars.loc[(cars['price'] == float('NaN')), 'price'] = np.nanmean(cars['price'])"
   ]
  },
  {
   "cell_type": "markdown",
   "metadata": {},
   "source": [
    "# 1.  Normality tests for price and log-price"
   ]
  },
  {
   "cell_type": "code",
   "execution_count": 5,
   "metadata": {},
   "outputs": [],
   "source": [
    "# Take the log of price\n",
    "cars['log_price'] = np.log(cars['price'])"
   ]
  },
  {
   "cell_type": "code",
   "execution_count": 6,
   "metadata": {},
   "outputs": [],
   "source": [
    "def qq_plot(vec1, vec2):\n",
    "    import matplotlib.pyplot as plt\n",
    "    import scipy.stats as ss\n",
    "    plt.figure(figsize=(6, 6)).gca() # define axis\n",
    "    ax1 = plt.subplot(221) ## setup the left subplot\n",
    "    ss.probplot(vec1, plot = ax1) ## Plot the left subplot\n",
    "    ax1 = plt.subplot(222) ## Set up the right subplot\n",
    "    ss.probplot(vec2, plot = ax1) ## Plot the right subplot"
   ]
  },
  {
   "cell_type": "code",
   "execution_count": 7,
   "metadata": {},
   "outputs": [],
   "source": [
    "def plot_cums(dist1, dist2):\n",
    "    ## sort the first data sample:\n",
    "    data_sorted = np.sort(dist1)\n",
    "    # calculate the proportional values of samples\n",
    "    p = 1. * np.arange(len(dist1)) / (len(dist1) - 1)\n",
    "\n",
    "    # Now plot as line and scatter plot. \n",
    "    plt.plot(data_sorted, p)\n",
    "    plt.scatter(data_sorted, p, color = 'red', label='dist1')\n",
    "    \n",
    "    # sort the seond data sample:\n",
    "    data_sorted = np.sort(dist2)\n",
    "    \n",
    "    # And the second plot\n",
    "    plt.plot(data_sorted, p, color = 'yellow')\n",
    "    plt.scatter(data_sorted, p, color = 'green', label='dist1')\n",
    "    plt.xlabel('Normalized Distribution')\n",
    "    plt.ylabel('Probability')\n",
    "    plt.title('CDF')\n",
    "    plt.legend()"
   ]
  },
  {
   "cell_type": "code",
   "execution_count": 8,
   "metadata": {},
   "outputs": [],
   "source": [
    "def normalize(X, names): \n",
    "    \"\"\"\n",
    "    input: \n",
    "        X: Pandas Data Frame that will be min-max normalized\n",
    "        names: column name\n",
    "        \n",
    "    Output:\n",
    "        Y: Normalized data frame\n",
    "    \"\"\"\n",
    "    N, m = X.shape\n",
    "    Y = np.zeros([N, m])\n",
    "    \n",
    "    for i in range(m):\n",
    "        name = names[i]\n",
    "        mX = min(X.loc[:,name])\n",
    "        Y[:,i] = (X.loc[:,name] - mX) / (max(X.loc[:,name]) - mX)\n",
    "    \n",
    "    return pd.DataFrame(Y, columns=names)"
   ]
  },
  {
   "cell_type": "code",
   "execution_count": 9,
   "metadata": {},
   "outputs": [],
   "source": [
    "# Normalize price and log price\n",
    "norm_price = normalize(cars[['price','log_price']], ['price', 'log_price'])\n",
    "norm_avgs = {'price':np.nanmean(norm_price['price']), 'log_price':np.nanmean(norm_price['log_price'])}\n",
    "norm_price = norm_price.fillna(value=norm_avgs)"
   ]
  },
  {
   "cell_type": "code",
   "execution_count": 10,
   "metadata": {},
   "outputs": [],
   "source": [
    "cars['norm_price'] = norm_price['price']\n",
    "cars['norm_log_price'] = norm_price['log_price']"
   ]
  },
  {
   "cell_type": "code",
   "execution_count": 11,
   "metadata": {},
   "outputs": [
    {
     "data": {
      "image/png": "[encoded data removed]",
      "text/plain": [
       "<Figure size 432x432 with 2 Axes>"
      ]
     },
     "metadata": {},
     "output_type": "display_data"
    }
   ],
   "source": [
    "# qq plots for observations of normality\n",
    "# Left is price, right is log price\n",
    "qq_plot(cars['price'],cars['log_price'])"
   ]
  },
  {
   "cell_type": "code",
   "execution_count": 12,
   "metadata": {},
   "outputs": [
    {
     "data": {
      "image/png": "[encoded data removed]",
      "text/plain": [
       "<Figure size 432x432 with 2 Axes>"
      ]
     },
     "metadata": {},
     "output_type": "display_data"
    }
   ],
   "source": [
    "qq_plot(cars['norm_price'], cars['norm_log_price'])"
   ]
  },
  {
   "cell_type": "code",
   "execution_count": 13,
   "metadata": {},
   "outputs": [],
   "source": [
    "from sklearn.preprocessing import scale\n",
    "\n",
    "norm_price_s = scale(cars['norm_price'])\n",
    "norm_log_price_s = scale(cars['norm_log_price'])"
   ]
  },
  {
   "cell_type": "code",
   "execution_count": 14,
   "metadata": {},
   "outputs": [
    {
     "data": {
      "image/png": "[encoded data removed]",
      "text/plain": [
       "<Figure size 432x288 with 1 Axes>"
      ]
     },
     "metadata": {},
     "output_type": "display_data"
    }
   ],
   "source": [
    "# CDF for observations of normality\n",
    "# Red is price, green is log price\n",
    "plot_cums(cars['norm_price'], cars['norm_log_price'])    "
   ]
  },
  {
   "cell_type": "code",
   "execution_count": 15,
   "metadata": {},
   "outputs": [],
   "source": [
    "def ks_test(dat, dist = 'norm'):\n",
    "    from scipy.stats import kstest \n",
    "    ks_statisic, pvalue = kstest(dat, dist)\n",
    "    print('KS-statistic = ' + str(ks_statisic))\n",
    "    print('P-value = ' + str(pvalue))"
   ]
  },
  {
   "cell_type": "markdown",
   "metadata": {},
   "source": [
    "Kolmogorov-Smirnov Test for normal price and log price.\n",
    "\n",
    "Null Hypothesis being tested:  Price and log price are normally distributed.\n",
    "\n",
    "Alpha = 0.05"
   ]
  },
  {
   "cell_type": "code",
   "execution_count": 16,
   "metadata": {},
   "outputs": [
    {
     "name": "stdout",
     "output_type": "stream",
     "text": [
      "KS-statistic = 0.15138273404223684\n",
      "P-value = 0.00014447085551050343\n"
     ]
    }
   ],
   "source": [
    "ks_test(norm_price_s)"
   ]
  },
  {
   "cell_type": "code",
   "execution_count": 17,
   "metadata": {},
   "outputs": [
    {
     "name": "stdout",
     "output_type": "stream",
     "text": [
      "KS-statistic = 0.09023646458780754\n",
      "P-value = 0.06666759212923301\n"
     ]
    }
   ],
   "source": [
    "ks_test(norm_log_price_s)"
   ]
  },
  {
   "cell_type": "markdown",
   "metadata": {},
   "source": [
    "### Results\n",
    "\n",
    "Because the P-Value is less than the accepted alpha, we reject the null hypothesis that the price is normally distributed.  However the p-value for the log price is barely over the threshold, so we fail to reject the null hypothesis that the log price is normally distributed.  Going forward I will be using the log price for analysis, since it is more normally distributed."
   ]
  },
  {
   "cell_type": "markdown",
   "metadata": {},
   "source": [
    "# 2.  Normality tests for stratified data\n",
    "Test significance of price (or log price) stratified by a) fuel type, b) aspiration, and c) rear vs. front wheel drive. "
   ]
  },
  {
   "cell_type": "code",
   "execution_count": 18,
   "metadata": {},
   "outputs": [],
   "source": [
    "p = 0.1\n",
    "def stratify(dat, p, col):\n",
    "    groups = dat.groupby(col) # Create the groups\n",
    "    nums = min(groups.size()) # Find the size of the smallest group\n",
    "    num = int(p * dat.shape[0]) # Compute the desired number of samples per group\n",
    "    if num <= nums: # If sufficient group size, sample each group and return. \n",
    "        return groups.apply(lambda x: x.sample(n=num))\n",
    "    else: # Oops. p is to large\n",
    "        pmax = nums / dat.shape[0]\n",
    "        print('The maximum value of p = ' + str(pmax))"
   ]
  },
  {
   "cell_type": "code",
   "execution_count": 19,
   "metadata": {},
   "outputs": [],
   "source": [
    "# Stratify based on fuel type, aspiration, and wheel drive\n",
    "\n",
    "fuel_type = stratify(cars[['norm_log_price','fuel-type']], 0.1, 'fuel-type')\n",
    "fuel_type_s = scale(fuel_type['norm_log_price'])\n",
    "\n",
    "aspiration = stratify(cars[['norm_log_price','aspiration']], 0.15, 'aspiration')\n",
    "aspiration_s = scale(aspiration['norm_log_price'])\n",
    "\n",
    "drive_wheels = stratify(cars[['norm_log_price','drive-wheels']], 0.04, 'drive-wheels')\n",
    "drive_wheels_s = scale(drive_wheels['norm_log_price'])"
   ]
  },
  {
   "cell_type": "code",
   "execution_count": 20,
   "metadata": {},
   "outputs": [],
   "source": [
    "def qq_plot(vec1, vec2, vec3):\n",
    "    import matplotlib.pyplot as plt\n",
    "    import scipy.stats as ss\n",
    "    plt.figure(figsize=(6, 6)).gca() # define axis\n",
    "    ax1 = plt.subplot(221) ## setup the left subplot\n",
    "    ss.probplot(vec1, plot = ax1) ## Plot the left subplot\n",
    "    ax1 = plt.subplot(222) ## Set up the right subplot\n",
    "    ss.probplot(vec2, plot = ax1) ## Plot the right subplot\n",
    "    ax1 = plt.subplot(223) ## Set up the right subplot\n",
    "    ss.probplot(vec3, plot = ax1) ## Plot the right subplot"
   ]
  },
  {
   "cell_type": "code",
   "execution_count": 21,
   "metadata": {},
   "outputs": [],
   "source": [
    "def plot_cums(dist1, dist2, dist3):\n",
    "    ## sort the first data sample:\n",
    "    data_sorted = np.sort(dist1)\n",
    "    # calculate the proportional values of samples\n",
    "    p = 1. * np.arange(len(dist1)) / (len(dist1) - 1)\n",
    "\n",
    "    # Now plot as line and scatter plot. \n",
    "    plt.plot(data_sorted, p)\n",
    "    plt.scatter(data_sorted, p, color = 'red', label='dist1')\n",
    "    \n",
    "    # sort the seond data sample:\n",
    "    data_sorted = np.sort(dist2)\n",
    "    \n",
    "    # And the second plot\n",
    "    p = 1. * np.arange(len(dist2)) / (len(dist2) - 1)\n",
    "    plt.plot(data_sorted, p, color = 'yellow')\n",
    "    plt.scatter(data_sorted, p, color = 'green', label='dist2')\n",
    "        \n",
    "    # sort the third data sample:\n",
    "    data_sorted = np.sort(dist3)\n",
    "    \n",
    "    # And the third plot\n",
    "    p = 1. * np.arange(len(dist3)) / (len(dist3) - 1)\n",
    "    plt.plot(data_sorted, p, color = 'blue')\n",
    "    plt.scatter(data_sorted, p, color = 'cyan', label='dist3')\n",
    "    \n",
    "    plt.xlabel('Normalized Distribution')\n",
    "    plt.ylabel('Probability')\n",
    "    plt.title('CDF')\n",
    "    plt.legend()"
   ]
  },
  {
   "cell_type": "code",
   "execution_count": 22,
   "metadata": {},
   "outputs": [
    {
     "data": {
      "image/png": "[encoded data removed]",
      "text/plain": [
       "<Figure size 432x432 with 3 Axes>"
      ]
     },
     "metadata": {},
     "output_type": "display_data"
    }
   ],
   "source": [
    "# Top left = fuel type\n",
    "# Top right = aspiration\n",
    "# Bottom left = type of drive\n",
    "qq_plot(fuel_type_s,aspiration_s,drive_wheels_s)"
   ]
  },
  {
   "cell_type": "code",
   "execution_count": 23,
   "metadata": {},
   "outputs": [
    {
     "data": {
      "image/png": "[encoded data removed]",
      "text/plain": [
       "<Figure size 432x288 with 1 Axes>"
      ]
     },
     "metadata": {},
     "output_type": "display_data"
    }
   ],
   "source": [
    "# Red = fuel type\n",
    "# Green = aspiration\n",
    "# blue = type of drive\n",
    "plot_cums(fuel_type_s,aspiration_s,drive_wheels_s)"
   ]
  },
  {
   "cell_type": "code",
   "execution_count": 24,
   "metadata": {},
   "outputs": [
    {
     "name": "stdout",
     "output_type": "stream",
     "text": [
      "KS-statistic = 0.15150816966167213\n",
      "P-value = 0.2882798337332213\n"
     ]
    }
   ],
   "source": [
    "ks_test(fuel_type_s)"
   ]
  },
  {
   "cell_type": "code",
   "execution_count": 25,
   "metadata": {},
   "outputs": [
    {
     "name": "stdout",
     "output_type": "stream",
     "text": [
      "KS-statistic = 0.0879680659463728\n",
      "P-value = 0.74656050121871\n"
     ]
    }
   ],
   "source": [
    "ks_test(aspiration_s)"
   ]
  },
  {
   "cell_type": "code",
   "execution_count": 26,
   "metadata": {},
   "outputs": [
    {
     "name": "stdout",
     "output_type": "stream",
     "text": [
      "KS-statistic = 0.2303441216790496\n",
      "P-value = 0.1332302721834029\n"
     ]
    }
   ],
   "source": [
    "ks_test(drive_wheels_s)"
   ]
  },
  {
   "cell_type": "markdown",
   "metadata": {},
   "source": [
    "### Results:\n",
    "We can see that the when we stratify log price by fuel type, aspiration, and the type of drive, we get different qq plots.  This tells us that there are different subgroups that are distributed differently.  For example the most normally distributed group is when we stratify by fuel type.  When we stratify by the type of drive, it is less normally distributed.  When overlaying the 3 CDF's we can see that they are all more or less normal."
   ]
  },
  {
   "cell_type": "markdown",
   "metadata": {},
   "source": [
    "# 3.  ANOVA and Tukey's HSD test\n",
    "Apply ANOVA and Tukey's HSD test to the auto price data to compare the price (or log price if closer to a normal distribution) of autos stratified by body style."
   ]
  },
  {
   "cell_type": "code",
   "execution_count": 27,
   "metadata": {},
   "outputs": [],
   "source": [
    "body_style = stratify(cars[['norm_log_price','body-style']], 0.029, 'body-style')\n",
    "body_style_s = scale(body_style['norm_log_price'])"
   ]
  },
  {
   "cell_type": "code",
   "execution_count": 28,
   "metadata": {},
   "outputs": [
    {
     "data": {
      "text/plain": [
       "sedan          96\n",
       "hatchback      70\n",
       "wagon          25\n",
       "hardtop         8\n",
       "convertible     6\n",
       "Name: body-style, dtype: int64"
      ]
     },
     "execution_count": 28,
     "metadata": {},
     "output_type": "execute_result"
    }
   ],
   "source": [
    "# There aren't many convertibles or hardtops, so I will be using the whole sample.\n",
    "cars['body-style'].value_counts()"
   ]
  },
  {
   "cell_type": "code",
   "execution_count": 29,
   "metadata": {},
   "outputs": [],
   "source": [
    "sedan = np.array(cars.loc[cars['body-style'] == 'sedan','norm_log_price'])\n",
    "hb = np.array(cars.loc[cars['body-style'] == 'hatchback','norm_log_price'])\n",
    "wagon = np.array(cars.loc[cars['body-style'] == 'wagon','norm_log_price'])\n",
    "hardtop = np.array(cars.loc[cars['body-style'] == 'hardtop','norm_log_price'])\n",
    "convertible = np.array(cars.loc[cars['body-style'] == 'convertible','norm_log_price'])"
   ]
  },
  {
   "cell_type": "markdown",
   "metadata": {},
   "source": [
    "Null Hypothesis: The mean log price for all types of body types are the same.\n",
    "\n",
    "Alternative: \n",
    "The mean log price for all types of body types are NOT the same.\n",
    "\n",
    "Alpha = 0.05"
   ]
  },
  {
   "cell_type": "code",
   "execution_count": 30,
   "metadata": {},
   "outputs": [
    {
     "name": "stdout",
     "output_type": "stream",
     "text": [
      "F statistic = 8.48005542053421\n",
      "P-value = 2.4354320332942644e-06\n"
     ]
    }
   ],
   "source": [
    "f_statistic, p_value = ss.f_oneway(sedan, hb, wagon, hardtop, convertible)\n",
    "print('F statistic = ' + str(f_statistic))\n",
    "print('P-value = ' + str(p_value))"
   ]
  },
  {
   "cell_type": "code",
   "execution_count": 31,
   "metadata": {},
   "outputs": [],
   "source": [
    "Tukey_HSD = pairwise_tukeyhsd(body_style.norm_log_price, body_style['body-style'])"
   ]
  },
  {
   "cell_type": "code",
   "execution_count": 32,
   "metadata": {
    "scrolled": true
   },
   "outputs": [
    {
     "name": "stdout",
     "output_type": "stream",
     "text": [
      " Multiple Comparison of Means - Tukey HSD,FWER=0.05 \n",
      "====================================================\n",
      "   group1     group2  meandiff  lower  upper  reject\n",
      "----------------------------------------------------\n",
      "convertible  hardtop  -0.1074  -0.5514 0.3366 False \n",
      "convertible hatchback -0.2978  -0.7419 0.1462 False \n",
      "convertible   sedan   -0.2122  -0.6562 0.2319 False \n",
      "convertible   wagon   -0.2471  -0.6912 0.1969 False \n",
      "  hardtop   hatchback -0.1904  -0.6344 0.2536 False \n",
      "  hardtop     sedan   -0.1048  -0.5488 0.3393 False \n",
      "  hardtop     wagon   -0.1397  -0.5838 0.3043 False \n",
      " hatchback    sedan    0.0857  -0.3584 0.5297 False \n",
      " hatchback    wagon    0.0507  -0.3933 0.4947 False \n",
      "   sedan      wagon    -0.035   -0.479 0.4091 False \n",
      "----------------------------------------------------\n"
     ]
    }
   ],
   "source": [
    "print(Tukey_HSD)"
   ]
  },
  {
   "cell_type": "markdown",
   "metadata": {},
   "source": [
    "### Results:\n",
    "Because the p-value is small, we reject the null hypothesis that the different body types have the same mean.  "
   ]
  },
  {
   "cell_type": "markdown",
   "metadata": {},
   "source": [
    "# 4.  Graphical Exploration\n",
    "Graphically explore the differences between the price conditioned by the categories of each variable. \n",
    "Hint: Make sure you have enough data for each category and drop categories with insufficient data."
   ]
  },
  {
   "cell_type": "code",
   "execution_count": 33,
   "metadata": {},
   "outputs": [
    {
     "data": {
      "image/png": "[encoded data removed]",
      "text/plain": [
       "<Figure size 720x432 with 1 Axes>"
      ]
     },
     "execution_count": 33,
     "metadata": {},
     "output_type": "execute_result"
    },
    {
     "data": {
      "image/png": "[encoded data removed]",
      "text/plain": [
       "<Figure size 720x432 with 1 Axes>"
      ]
     },
     "metadata": {},
     "output_type": "display_data"
    }
   ],
   "source": [
    "Tukey_HSD.plot_simultaneous()"
   ]
  },
  {
   "cell_type": "code",
   "execution_count": 34,
   "metadata": {},
   "outputs": [],
   "source": [
    "Tukey_HSD = pairwise_tukeyhsd(aspiration.norm_log_price, aspiration['aspiration'])"
   ]
  },
  {
   "cell_type": "code",
   "execution_count": 35,
   "metadata": {},
   "outputs": [],
   "source": [
    "Tukey_HSD = pairwise_tukeyhsd(drive_wheels.norm_log_price, drive_wheels['drive-wheels'])"
   ]
  },
  {
   "cell_type": "code",
   "execution_count": 36,
   "metadata": {},
   "outputs": [
    {
     "data": {
      "image/png": "[encoded data removed]",
      "text/plain": [
       "<Figure size 720x432 with 1 Axes>"
      ]
     },
     "execution_count": 36,
     "metadata": {},
     "output_type": "execute_result"
    },
    {
     "data": {
      "image/png": "[encoded data removed]",
      "text/plain": [
       "<Figure size 720x432 with 1 Axes>"
      ]
     },
     "metadata": {},
     "output_type": "display_data"
    }
   ],
   "source": [
    "Tukey_HSD.plot_simultaneous()"
   ]
  },
  {
   "cell_type": "code",
   "execution_count": 37,
   "metadata": {},
   "outputs": [],
   "source": [
    "Tukey_HSD = pairwise_tukeyhsd(fuel_type.norm_log_price, fuel_type['fuel-type'])"
   ]
  },
  {
   "cell_type": "code",
   "execution_count": 38,
   "metadata": {},
   "outputs": [
    {
     "name": "stdout",
     "output_type": "stream",
     "text": [
      "Multiple Comparison of Means - Tukey HSD,FWER=0.05\n",
      "===========================================\n",
      "group1 group2 meandiff  lower  upper reject\n",
      "-------------------------------------------\n",
      "diesel  gas   -0.1046  -0.2631 0.054 False \n",
      "-------------------------------------------\n"
     ]
    }
   ],
   "source": [
    "print(Tukey_HSD)"
   ]
  },
  {
   "cell_type": "markdown",
   "metadata": {},
   "source": [
    "We can see by using the simultanius plotting that the mean log price vary between the type of drive and the type of body."
   ]
  },
  {
   "cell_type": "markdown",
   "metadata": {},
   "source": [
    "# 5.  Use standard ANOVA and Tukey HSD to test the differences"
   ]
  },
  {
   "cell_type": "markdown",
   "metadata": {},
   "source": [
    "I will use ANOVA testing and TUKEY HSD to determine if the differences in log price between the stratified data is significant.  All Null hypothesis will be that the mean log price is the same.  Alpha = 0.05"
   ]
  },
  {
   "cell_type": "code",
   "execution_count": 39,
   "metadata": {},
   "outputs": [],
   "source": [
    "gas = np.array(cars.loc[cars['fuel-type'] == 'gas','norm_log_price'])\n",
    "diesel = np.array(cars.loc[cars['fuel-type'] == 'diesel','norm_log_price'])"
   ]
  },
  {
   "cell_type": "code",
   "execution_count": 40,
   "metadata": {},
   "outputs": [
    {
     "name": "stdout",
     "output_type": "stream",
     "text": [
      "F statistic = 3.9060236056257374\n",
      "P-value = 0.04946750041288428\n"
     ]
    }
   ],
   "source": [
    "f_statistic, p_value = ss.f_oneway(gas, diesel)\n",
    "print('F statistic = ' + str(f_statistic))\n",
    "print('P-value = ' + str(p_value))"
   ]
  },
  {
   "cell_type": "code",
   "execution_count": 41,
   "metadata": {},
   "outputs": [
    {
     "name": "stdout",
     "output_type": "stream",
     "text": [
      "Multiple Comparison of Means - Tukey HSD,FWER=0.05\n",
      "===========================================\n",
      "group1 group2 meandiff  lower  upper reject\n",
      "-------------------------------------------\n",
      "diesel  gas   -0.1046  -0.2631 0.054 False \n",
      "-------------------------------------------\n"
     ]
    }
   ],
   "source": [
    "Tukey_HSD = pairwise_tukeyhsd(fuel_type.norm_log_price, fuel_type['fuel-type'])\n",
    "print(Tukey_HSD)"
   ]
  },
  {
   "cell_type": "code",
   "execution_count": 42,
   "metadata": {},
   "outputs": [],
   "source": [
    "std = np.array(cars.loc[cars['aspiration'] == 'std','norm_log_price'])\n",
    "turbo = np.array(cars.loc[cars['aspiration'] == 'turbo','norm_log_price'])"
   ]
  },
  {
   "cell_type": "code",
   "execution_count": 43,
   "metadata": {},
   "outputs": [
    {
     "name": "stdout",
     "output_type": "stream",
     "text": [
      "F statistic = 13.984509991983584\n",
      "P-value = 0.0002397392993333004\n"
     ]
    }
   ],
   "source": [
    "f_statistic, p_value = ss.f_oneway(std, turbo)\n",
    "print('F statistic = ' + str(f_statistic))\n",
    "print('P-value = ' + str(p_value))"
   ]
  },
  {
   "cell_type": "code",
   "execution_count": 44,
   "metadata": {},
   "outputs": [
    {
     "name": "stdout",
     "output_type": "stream",
     "text": [
      "Multiple Comparison of Means - Tukey HSD,FWER=0.05\n",
      "===========================================\n",
      "group1 group2 meandiff lower  upper  reject\n",
      "-------------------------------------------\n",
      " std   turbo   0.1613  0.0555 0.2671  True \n",
      "-------------------------------------------\n"
     ]
    }
   ],
   "source": [
    "Tukey_HSD = pairwise_tukeyhsd(aspiration.norm_log_price, aspiration['aspiration'])\n",
    "print(Tukey_HSD)"
   ]
  },
  {
   "cell_type": "code",
   "execution_count": 45,
   "metadata": {},
   "outputs": [],
   "source": [
    "wheel4 = np.array(cars.loc[cars['drive-wheels'] == '4wd','norm_log_price'])\n",
    "wheelf = np.array(cars.loc[cars['drive-wheels'] == 'fwd','norm_log_price'])\n",
    "wheelr = np.array(cars.loc[cars['drive-wheels'] == 'rwd','norm_log_price'])"
   ]
  },
  {
   "cell_type": "code",
   "execution_count": 46,
   "metadata": {},
   "outputs": [
    {
     "name": "stdout",
     "output_type": "stream",
     "text": [
      "F statistic = 87.6773942199959\n",
      "P-value = 3.87928703493296e-28\n"
     ]
    }
   ],
   "source": [
    "f_statistic, p_value = ss.f_oneway(wheel4, wheelf, wheelr)\n",
    "print('F statistic = ' + str(f_statistic))\n",
    "print('P-value = ' + str(p_value))"
   ]
  },
  {
   "cell_type": "code",
   "execution_count": 47,
   "metadata": {},
   "outputs": [
    {
     "name": "stdout",
     "output_type": "stream",
     "text": [
      "Multiple Comparison of Means - Tukey HSD,FWER=0.05\n",
      "============================================\n",
      "group1 group2 meandiff  lower  upper  reject\n",
      "--------------------------------------------\n",
      " 4wd    fwd   -0.0208  -0.2766 0.235  False \n",
      " 4wd    rwd    0.1705  -0.0853 0.4263 False \n",
      " fwd    rwd    0.1913  -0.0645 0.4471 False \n",
      "--------------------------------------------\n"
     ]
    }
   ],
   "source": [
    "Tukey_HSD = pairwise_tukeyhsd(drive_wheels.norm_log_price, drive_wheels['drive-wheels'])\n",
    "print(Tukey_HSD)"
   ]
  },
  {
   "cell_type": "markdown",
   "metadata": {},
   "source": [
    "# Final Results:\n",
    "We can see that for all stratifications, the mean log price is significantly different with all small p values.  In addition when doing the pairwise tukey hsd, the pairwise is all different with one exception, the 4wd and fwd log price comparison.  All in all, we were able to reject the null for all of these mean log price measurements.  "
   ]
  }
 ],
 "metadata": {
  "kernelspec": {
   "display_name": "Python 3",
   "language": "python",
   "name": "python3"
  },
  "language_info": {
   "codemirror_mode": {
    "name": "ipython",
    "version": 3
   },
   "file_extension": ".py",
   "mimetype": "text/x-python",
   "name": "python",
   "nbconvert_exporter": "python",
   "pygments_lexer": "ipython3",
   "version": "3.6.5"
  }
 },
 "nbformat": 4,
 "nbformat_minor": 2
}
