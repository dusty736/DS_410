{
 "cells": [
  {
   "cell_type": "markdown",
   "metadata": {},
   "source": [
    "# Lesson 7 - Parkinson PCR\n",
    "\n",
    "## Author - Dustin Burnham"
   ]
  },
  {
   "cell_type": "markdown",
   "metadata": {},
   "source": [
    "### Description:\n",
    "\n",
    "Perform Principal Component Regression on a <a href=\"https://archive.ics.uci.edu/ml/datasets/parkinsons+telemonitoring\">dataset that tracked patients with Parkinson's Disease</a>.\n",
    "\n",
    "Citation: A Tsanas, MA Little, PE McSharry, LO Ramig (2009)\n",
    "'Accurate telemonitoring of Parkinson's disease progression by non-invasive speech tests',\n",
    "IEEE Transactions on Biomedical Engineering.\n",
    "\n",
    "About the data:\n",
    "This dataset is composed of a range of biomedical voice measurements from 42 people with early-stage Parkinson's disease recruited to a six-month trial of a telemonitoring device for remote symptom progression monitoring. The recordings were automatically captured in the patient's homes.\n",
    "\n",
    "#### Instructions:\n",
    "\n",
    " 1. Load the dataset.\n",
    " 2. Create the X-matrix (one-hot encoding categorical factors).\n",
    " 3. Scale the X-matrix.\n",
    " 4. Create the principal components and do a simple plot of the explained variance.\n",
    " 5. PCR - Linear regression with the principal components.\n",
    "\n",
    "Report on:\n",
    "\n",
    " 1. Number of components before and after (choose a smaller number of principal components and explain how you chose them).\n",
    " 2. Interpret the adjusted R-squared."
   ]
  },
  {
   "cell_type": "code",
   "execution_count": 1,
   "metadata": {},
   "outputs": [],
   "source": [
    "filename = \"https://archive.ics.uci.edu/ml/machine-learning-databases/parkinsons/telemonitoring/parkinsons_updrs.data\""
   ]
  },
  {
   "cell_type": "code",
   "execution_count": 2,
   "metadata": {},
   "outputs": [],
   "source": [
    "import pandas as pd\n",
    "import numpy as np\n",
    "from sklearn.decomposition import PCA\n",
    "import matplotlib.pyplot as plt\n",
    "import statsmodels.formula.api as sm\n",
    "import seaborn as sns"
   ]
  },
  {
   "cell_type": "code",
   "execution_count": 3,
   "metadata": {},
   "outputs": [
    {
     "data": {
      "text/html": [
       "<div>\n",
       "<style scoped>\n",
       "    .dataframe tbody tr th:only-of-type {\n",
       "        vertical-align: middle;\n",
       "    }\n",
       "\n",
       "    .dataframe tbody tr th {\n",
       "        vertical-align: top;\n",
       "    }\n",
       "\n",
       "    .dataframe thead th {\n",
       "        text-align: right;\n",
       "    }\n",
       "</style>\n",
       "<table border=\"1\" class=\"dataframe\">\n",
       "  <thead>\n",
       "    <tr style=\"text-align: right;\">\n",
       "      <th></th>\n",
       "      <th>subject#</th>\n",
       "      <th>age</th>\n",
       "      <th>sex</th>\n",
       "      <th>test_time</th>\n",
       "      <th>motor_UPDRS</th>\n",
       "      <th>total_UPDRS</th>\n",
       "      <th>Jitter(%)</th>\n",
       "      <th>Jitter(Abs)</th>\n",
       "      <th>Jitter:RAP</th>\n",
       "      <th>Jitter:PPQ5</th>\n",
       "      <th>...</th>\n",
       "      <th>Shimmer(dB)</th>\n",
       "      <th>Shimmer:APQ3</th>\n",
       "      <th>Shimmer:APQ5</th>\n",
       "      <th>Shimmer:APQ11</th>\n",
       "      <th>Shimmer:DDA</th>\n",
       "      <th>NHR</th>\n",
       "      <th>HNR</th>\n",
       "      <th>RPDE</th>\n",
       "      <th>DFA</th>\n",
       "      <th>PPE</th>\n",
       "    </tr>\n",
       "  </thead>\n",
       "  <tbody>\n",
       "    <tr>\n",
       "      <th>0</th>\n",
       "      <td>1</td>\n",
       "      <td>72</td>\n",
       "      <td>0</td>\n",
       "      <td>5.6431</td>\n",
       "      <td>28.199</td>\n",
       "      <td>34.398</td>\n",
       "      <td>0.00662</td>\n",
       "      <td>0.000034</td>\n",
       "      <td>0.00401</td>\n",
       "      <td>0.00317</td>\n",
       "      <td>...</td>\n",
       "      <td>0.230</td>\n",
       "      <td>0.01438</td>\n",
       "      <td>0.01309</td>\n",
       "      <td>0.01662</td>\n",
       "      <td>0.04314</td>\n",
       "      <td>0.014290</td>\n",
       "      <td>21.640</td>\n",
       "      <td>0.41888</td>\n",
       "      <td>0.54842</td>\n",
       "      <td>0.16006</td>\n",
       "    </tr>\n",
       "    <tr>\n",
       "      <th>1</th>\n",
       "      <td>1</td>\n",
       "      <td>72</td>\n",
       "      <td>0</td>\n",
       "      <td>12.6660</td>\n",
       "      <td>28.447</td>\n",
       "      <td>34.894</td>\n",
       "      <td>0.00300</td>\n",
       "      <td>0.000017</td>\n",
       "      <td>0.00132</td>\n",
       "      <td>0.00150</td>\n",
       "      <td>...</td>\n",
       "      <td>0.179</td>\n",
       "      <td>0.00994</td>\n",
       "      <td>0.01072</td>\n",
       "      <td>0.01689</td>\n",
       "      <td>0.02982</td>\n",
       "      <td>0.011112</td>\n",
       "      <td>27.183</td>\n",
       "      <td>0.43493</td>\n",
       "      <td>0.56477</td>\n",
       "      <td>0.10810</td>\n",
       "    </tr>\n",
       "    <tr>\n",
       "      <th>2</th>\n",
       "      <td>1</td>\n",
       "      <td>72</td>\n",
       "      <td>0</td>\n",
       "      <td>19.6810</td>\n",
       "      <td>28.695</td>\n",
       "      <td>35.389</td>\n",
       "      <td>0.00481</td>\n",
       "      <td>0.000025</td>\n",
       "      <td>0.00205</td>\n",
       "      <td>0.00208</td>\n",
       "      <td>...</td>\n",
       "      <td>0.181</td>\n",
       "      <td>0.00734</td>\n",
       "      <td>0.00844</td>\n",
       "      <td>0.01458</td>\n",
       "      <td>0.02202</td>\n",
       "      <td>0.020220</td>\n",
       "      <td>23.047</td>\n",
       "      <td>0.46222</td>\n",
       "      <td>0.54405</td>\n",
       "      <td>0.21014</td>\n",
       "    </tr>\n",
       "    <tr>\n",
       "      <th>3</th>\n",
       "      <td>1</td>\n",
       "      <td>72</td>\n",
       "      <td>0</td>\n",
       "      <td>25.6470</td>\n",
       "      <td>28.905</td>\n",
       "      <td>35.810</td>\n",
       "      <td>0.00528</td>\n",
       "      <td>0.000027</td>\n",
       "      <td>0.00191</td>\n",
       "      <td>0.00264</td>\n",
       "      <td>...</td>\n",
       "      <td>0.327</td>\n",
       "      <td>0.01106</td>\n",
       "      <td>0.01265</td>\n",
       "      <td>0.01963</td>\n",
       "      <td>0.03317</td>\n",
       "      <td>0.027837</td>\n",
       "      <td>24.445</td>\n",
       "      <td>0.48730</td>\n",
       "      <td>0.57794</td>\n",
       "      <td>0.33277</td>\n",
       "    </tr>\n",
       "    <tr>\n",
       "      <th>4</th>\n",
       "      <td>1</td>\n",
       "      <td>72</td>\n",
       "      <td>0</td>\n",
       "      <td>33.6420</td>\n",
       "      <td>29.187</td>\n",
       "      <td>36.375</td>\n",
       "      <td>0.00335</td>\n",
       "      <td>0.000020</td>\n",
       "      <td>0.00093</td>\n",
       "      <td>0.00130</td>\n",
       "      <td>...</td>\n",
       "      <td>0.176</td>\n",
       "      <td>0.00679</td>\n",
       "      <td>0.00929</td>\n",
       "      <td>0.01819</td>\n",
       "      <td>0.02036</td>\n",
       "      <td>0.011625</td>\n",
       "      <td>26.126</td>\n",
       "      <td>0.47188</td>\n",
       "      <td>0.56122</td>\n",
       "      <td>0.19361</td>\n",
       "    </tr>\n",
       "  </tbody>\n",
       "</table>\n",
       "<p>5 rows × 22 columns</p>\n",
       "</div>"
      ],
      "text/plain": [
       "   subject#  age  sex  test_time  motor_UPDRS  total_UPDRS  Jitter(%)  \\\n",
       "0         1   72    0     5.6431       28.199       34.398    0.00662   \n",
       "1         1   72    0    12.6660       28.447       34.894    0.00300   \n",
       "2         1   72    0    19.6810       28.695       35.389    0.00481   \n",
       "3         1   72    0    25.6470       28.905       35.810    0.00528   \n",
       "4         1   72    0    33.6420       29.187       36.375    0.00335   \n",
       "\n",
       "   Jitter(Abs)  Jitter:RAP  Jitter:PPQ5  ...  Shimmer(dB)  Shimmer:APQ3  \\\n",
       "0     0.000034     0.00401      0.00317  ...        0.230       0.01438   \n",
       "1     0.000017     0.00132      0.00150  ...        0.179       0.00994   \n",
       "2     0.000025     0.00205      0.00208  ...        0.181       0.00734   \n",
       "3     0.000027     0.00191      0.00264  ...        0.327       0.01106   \n",
       "4     0.000020     0.00093      0.00130  ...        0.176       0.00679   \n",
       "\n",
       "   Shimmer:APQ5  Shimmer:APQ11  Shimmer:DDA       NHR     HNR     RPDE  \\\n",
       "0       0.01309        0.01662      0.04314  0.014290  21.640  0.41888   \n",
       "1       0.01072        0.01689      0.02982  0.011112  27.183  0.43493   \n",
       "2       0.00844        0.01458      0.02202  0.020220  23.047  0.46222   \n",
       "3       0.01265        0.01963      0.03317  0.027837  24.445  0.48730   \n",
       "4       0.00929        0.01819      0.02036  0.011625  26.126  0.47188   \n",
       "\n",
       "       DFA      PPE  \n",
       "0  0.54842  0.16006  \n",
       "1  0.56477  0.10810  \n",
       "2  0.54405  0.21014  \n",
       "3  0.57794  0.33277  \n",
       "4  0.56122  0.19361  \n",
       "\n",
       "[5 rows x 22 columns]"
      ]
     },
     "execution_count": 3,
     "metadata": {},
     "output_type": "execute_result"
    }
   ],
   "source": [
    "parkinsons_df = pd.read_csv(filename)\n",
    "parkinsons_df.head()"
   ]
  },
  {
   "cell_type": "code",
   "execution_count": 4,
   "metadata": {},
   "outputs": [
    {
     "data": {
      "text/plain": [
       "Index(['subject#', 'age', 'sex', 'test_time', 'motor_UPDRS', 'total_UPDRS',\n",
       "       'Jitter(%)', 'Jitter(Abs)', 'Jitter:RAP', 'Jitter:PPQ5', 'Jitter:DDP',\n",
       "       'Shimmer', 'Shimmer(dB)', 'Shimmer:APQ3', 'Shimmer:APQ5',\n",
       "       'Shimmer:APQ11', 'Shimmer:DDA', 'NHR', 'HNR', 'RPDE', 'DFA', 'PPE'],\n",
       "      dtype='object')"
      ]
     },
     "execution_count": 4,
     "metadata": {},
     "output_type": "execute_result"
    }
   ],
   "source": [
    "parkinsons_df.columns"
   ]
  },
  {
   "cell_type": "code",
   "execution_count": 5,
   "metadata": {},
   "outputs": [
    {
     "name": "stdout",
     "output_type": "stream",
     "text": [
      "DataFrame one-hot-expanded shape: (5875, 17)\n"
     ]
    },
    {
     "name": "stderr",
     "output_type": "stream",
     "text": [
      "/Users/dusty/anaconda3/lib/python3.7/site-packages/ipykernel_launcher.py:15: FutureWarning: Method .as_matrix will be removed in a future version. Use .values instead.\n",
      "  from ipykernel import kernelapp as app\n"
     ]
    }
   ],
   "source": [
    "# Define the target and features:\n",
    "target_label = 'total_UPDRS'\n",
    "non_features = ['subject#', 'age', 'sex', 'test_time', 'motor_UPDRS']\n",
    "feature_labels = [x for x in parkinsons_df.columns if x not in [target_label] + non_features]\n",
    "\n",
    "# Filter out non-features and non-targets\n",
    "parkinsons_df = parkinsons_df.drop(non_features, axis=1)\n",
    "\n",
    "# One-hot encode inputs\n",
    "parkinsons_expanded = pd.get_dummies(parkinsons_df, drop_first=True)\n",
    "print('DataFrame one-hot-expanded shape: {}'.format(parkinsons_expanded.shape))\n",
    "\n",
    "# Get target and original x-matrix\n",
    "y = parkinsons_df[target_label]\n",
    "X = parkinsons_df.as_matrix(columns=feature_labels)"
   ]
  },
  {
   "cell_type": "code",
   "execution_count": 6,
   "metadata": {},
   "outputs": [],
   "source": [
    "# Scale function\n",
    "def scale(col):\n",
    "    mean_col = np.mean(col)\n",
    "    sd_col = np.std(col)\n",
    "    std = (col - mean_col) / sd_col\n",
    "    return std"
   ]
  },
  {
   "cell_type": "code",
   "execution_count": 7,
   "metadata": {},
   "outputs": [],
   "source": [
    "# Scale all columns first\n",
    "\n",
    "# Create x-scaled (look into the function np.apply_along_axis to apply 'scale' function\n",
    "#    to each column).\n",
    "x_scaled = np.apply_along_axis(scale, 0, X)\n",
    "\n",
    "# Create a scaled y-target.\n",
    "y_scaled = scale(y)"
   ]
  },
  {
   "cell_type": "code",
   "execution_count": 8,
   "metadata": {},
   "outputs": [],
   "source": [
    "# PCR!!\n",
    "pca = PCA()\n",
    "pca_result = pca.fit_transform(X)\n",
    "\n",
    "column_names = ['pc' + str(ix+1) for ix in range(x_scaled.shape[1])]\n",
    "pca_df = pd.DataFrame(data = pca_result, columns=column_names)\n",
    "pca_df[target_label] = y_scaled"
   ]
  },
  {
   "cell_type": "code",
   "execution_count": 9,
   "metadata": {},
   "outputs": [
    {
     "data": {
      "text/html": [
       "<div>\n",
       "<style scoped>\n",
       "    .dataframe tbody tr th:only-of-type {\n",
       "        vertical-align: middle;\n",
       "    }\n",
       "\n",
       "    .dataframe tbody tr th {\n",
       "        vertical-align: top;\n",
       "    }\n",
       "\n",
       "    .dataframe thead th {\n",
       "        text-align: right;\n",
       "    }\n",
       "</style>\n",
       "<table border=\"1\" class=\"dataframe\">\n",
       "  <thead>\n",
       "    <tr style=\"text-align: right;\">\n",
       "      <th></th>\n",
       "      <th>pc1</th>\n",
       "      <th>pc2</th>\n",
       "      <th>pc3</th>\n",
       "      <th>pc4</th>\n",
       "      <th>pc5</th>\n",
       "      <th>pc6</th>\n",
       "      <th>pc7</th>\n",
       "      <th>pc8</th>\n",
       "      <th>pc9</th>\n",
       "      <th>pc10</th>\n",
       "      <th>pc11</th>\n",
       "      <th>pc12</th>\n",
       "      <th>pc13</th>\n",
       "      <th>pc14</th>\n",
       "      <th>pc15</th>\n",
       "      <th>pc16</th>\n",
       "      <th>total_UPDRS</th>\n",
       "    </tr>\n",
       "  </thead>\n",
       "  <tbody>\n",
       "    <tr>\n",
       "      <th>0</th>\n",
       "      <td>0.032262</td>\n",
       "      <td>-0.063082</td>\n",
       "      <td>-0.160399</td>\n",
       "      <td>-0.075797</td>\n",
       "      <td>-0.036048</td>\n",
       "      <td>-0.020489</td>\n",
       "      <td>0.003958</td>\n",
       "      <td>-0.004517</td>\n",
       "      <td>0.008281</td>\n",
       "      <td>-0.000183</td>\n",
       "      <td>0.000860</td>\n",
       "      <td>-0.000365</td>\n",
       "      <td>-0.000109</td>\n",
       "      <td>-0.000002</td>\n",
       "      <td>0.000003</td>\n",
       "      <td>-1.894103e-06</td>\n",
       "      <td>0.502745</td>\n",
       "    </tr>\n",
       "    <tr>\n",
       "      <th>1</th>\n",
       "      <td>-5.506490</td>\n",
       "      <td>0.119718</td>\n",
       "      <td>-0.027369</td>\n",
       "      <td>-0.048629</td>\n",
       "      <td>-0.009077</td>\n",
       "      <td>0.002927</td>\n",
       "      <td>0.000151</td>\n",
       "      <td>0.002084</td>\n",
       "      <td>0.001933</td>\n",
       "      <td>-0.000662</td>\n",
       "      <td>0.000745</td>\n",
       "      <td>0.000243</td>\n",
       "      <td>-0.000119</td>\n",
       "      <td>-0.000005</td>\n",
       "      <td>-0.000003</td>\n",
       "      <td>1.919426e-06</td>\n",
       "      <td>0.549103</td>\n",
       "    </tr>\n",
       "    <tr>\n",
       "      <th>2</th>\n",
       "      <td>-1.373763</td>\n",
       "      <td>-0.055115</td>\n",
       "      <td>-0.073258</td>\n",
       "      <td>-0.064052</td>\n",
       "      <td>-0.083374</td>\n",
       "      <td>-0.015379</td>\n",
       "      <td>-0.006209</td>\n",
       "      <td>-0.003317</td>\n",
       "      <td>0.000595</td>\n",
       "      <td>-0.000291</td>\n",
       "      <td>0.000013</td>\n",
       "      <td>0.000084</td>\n",
       "      <td>-0.000318</td>\n",
       "      <td>0.000005</td>\n",
       "      <td>0.000003</td>\n",
       "      <td>-1.825812e-06</td>\n",
       "      <td>0.595367</td>\n",
       "    </tr>\n",
       "    <tr>\n",
       "      <th>3</th>\n",
       "      <td>-2.760920</td>\n",
       "      <td>0.144331</td>\n",
       "      <td>0.047901</td>\n",
       "      <td>0.032369</td>\n",
       "      <td>-0.145759</td>\n",
       "      <td>-0.042199</td>\n",
       "      <td>-0.014273</td>\n",
       "      <td>-0.013032</td>\n",
       "      <td>-0.007849</td>\n",
       "      <td>-0.001435</td>\n",
       "      <td>-0.003835</td>\n",
       "      <td>0.000429</td>\n",
       "      <td>0.000300</td>\n",
       "      <td>0.000015</td>\n",
       "      <td>-0.000002</td>\n",
       "      <td>-2.558265e-06</td>\n",
       "      <td>0.634716</td>\n",
       "    </tr>\n",
       "    <tr>\n",
       "      <th>4</th>\n",
       "      <td>-4.449132</td>\n",
       "      <td>0.068235</td>\n",
       "      <td>0.009236</td>\n",
       "      <td>-0.034520</td>\n",
       "      <td>-0.068758</td>\n",
       "      <td>-0.012732</td>\n",
       "      <td>-0.006856</td>\n",
       "      <td>0.001855</td>\n",
       "      <td>-0.001202</td>\n",
       "      <td>-0.000238</td>\n",
       "      <td>0.000084</td>\n",
       "      <td>0.000276</td>\n",
       "      <td>-0.000377</td>\n",
       "      <td>0.000002</td>\n",
       "      <td>-0.000004</td>\n",
       "      <td>-6.738290e-07</td>\n",
       "      <td>0.687522</td>\n",
       "    </tr>\n",
       "  </tbody>\n",
       "</table>\n",
       "</div>"
      ],
      "text/plain": [
       "        pc1       pc2       pc3       pc4       pc5       pc6       pc7  \\\n",
       "0  0.032262 -0.063082 -0.160399 -0.075797 -0.036048 -0.020489  0.003958   \n",
       "1 -5.506490  0.119718 -0.027369 -0.048629 -0.009077  0.002927  0.000151   \n",
       "2 -1.373763 -0.055115 -0.073258 -0.064052 -0.083374 -0.015379 -0.006209   \n",
       "3 -2.760920  0.144331  0.047901  0.032369 -0.145759 -0.042199 -0.014273   \n",
       "4 -4.449132  0.068235  0.009236 -0.034520 -0.068758 -0.012732 -0.006856   \n",
       "\n",
       "        pc8       pc9      pc10      pc11      pc12      pc13      pc14  \\\n",
       "0 -0.004517  0.008281 -0.000183  0.000860 -0.000365 -0.000109 -0.000002   \n",
       "1  0.002084  0.001933 -0.000662  0.000745  0.000243 -0.000119 -0.000005   \n",
       "2 -0.003317  0.000595 -0.000291  0.000013  0.000084 -0.000318  0.000005   \n",
       "3 -0.013032 -0.007849 -0.001435 -0.003835  0.000429  0.000300  0.000015   \n",
       "4  0.001855 -0.001202 -0.000238  0.000084  0.000276 -0.000377  0.000002   \n",
       "\n",
       "       pc15          pc16  total_UPDRS  \n",
       "0  0.000003 -1.894103e-06     0.502745  \n",
       "1 -0.000003  1.919426e-06     0.549103  \n",
       "2  0.000003 -1.825812e-06     0.595367  \n",
       "3 -0.000002 -2.558265e-06     0.634716  \n",
       "4 -0.000004 -6.738290e-07     0.687522  "
      ]
     },
     "execution_count": 9,
     "metadata": {},
     "output_type": "execute_result"
    }
   ],
   "source": [
    "pca_df.head()"
   ]
  },
  {
   "cell_type": "code",
   "execution_count": 10,
   "metadata": {},
   "outputs": [
    {
     "data": {
      "text/plain": [
       "Text(0, 0.5, 'Explained Variance')"
      ]
     },
     "execution_count": 10,
     "metadata": {},
     "output_type": "execute_result"
    },
    {
     "data": {
      "image/png": "[encoded data removed]",
      "text/plain": [
       "<Figure size 432x288 with 1 Axes>"
      ]
     },
     "metadata": {
      "needs_background": "light"
     },
     "output_type": "display_data"
    }
   ],
   "source": [
    "# Plot the explained variance for all principal components.\n",
    "# Note: If the first value is too large, it may dwarf how the rest look.\n",
    "# You may consider plotting starting with the 2nd value (python index at 1).\n",
    "plt.plot([i for i in range(1,17)], pca.explained_variance_)\n",
    "plt.title('Explained variance by Principal Component Num')\n",
    "plt.xlabel('Principal Component')\n",
    "plt.ylabel('Explained Variance')"
   ]
  },
  {
   "cell_type": "code",
   "execution_count": 11,
   "metadata": {
    "scrolled": false
   },
   "outputs": [
    {
     "name": "stdout",
     "output_type": "stream",
     "text": [
      "                            OLS Regression Results                            \n",
      "==============================================================================\n",
      "Dep. Variable:            total_UPDRS   R-squared:                       0.030\n",
      "Model:                            OLS   Adj. R-squared:                  0.030\n",
      "Method:                 Least Squares   F-statistic:                     60.70\n",
      "Date:                Mon, 03 Jun 2019   Prob (F-statistic):           1.22e-38\n",
      "Time:                        22:00:03   Log-Likelihood:                -8246.5\n",
      "No. Observations:                5875   AIC:                         1.650e+04\n",
      "Df Residuals:                    5871   BIC:                         1.653e+04\n",
      "Df Model:                           3                                         \n",
      "Covariance Type:            nonrobust                                         \n",
      "==============================================================================\n",
      "                 coef    std err          t      P>|t|      [0.025      0.975]\n",
      "------------------------------------------------------------------------------\n",
      "Intercept   -4.38e-15      0.013  -3.41e-13      1.000      -0.025       0.025\n",
      "pc1            0.0377      0.003     12.608      0.000       0.032       0.044\n",
      "pc2           -0.3341      0.089     -3.755      0.000      -0.508      -0.160\n",
      "pc3            0.5052      0.168      3.009      0.003       0.176       0.834\n",
      "==============================================================================\n",
      "Omnibus:                      187.172   Durbin-Watson:                   0.061\n",
      "Prob(Omnibus):                  0.000   Jarque-Bera (JB):              165.646\n",
      "Skew:                           0.352   Prob(JB):                     1.07e-36\n",
      "Kurtosis:                       2.575   Cond. No.                         56.1\n",
      "==============================================================================\n",
      "\n",
      "Warnings:\n",
      "[1] Standard Errors assume that the covariance matrix of the errors is correctly specified.\n"
     ]
    },
    {
     "data": {
      "text/plain": [
       "Text(0.5, 1.0, 'Residual Histogram')"
      ]
     },
     "execution_count": 11,
     "metadata": {},
     "output_type": "execute_result"
    },
    {
     "data": {
      "image/png": "[encoded data removed]",
      "text/plain": [
       "<Figure size 432x288 with 1 Axes>"
      ]
     },
     "metadata": {
      "needs_background": "light"
     },
     "output_type": "display_data"
    }
   ],
   "source": [
    "# Perform linear regression with the first N columns.\n",
    "n = 3\n",
    "formula_start = target_label + ' ~ '\n",
    "formula_terms = ['pc' + str(x+1) for x in range(n)]\n",
    "formula_end = ' + '.join(formula_terms)\n",
    "formula_final = formula_start + formula_end\n",
    "\n",
    "pcr_model = sm.ols(formula = formula_final, data=pca_df)\n",
    "\n",
    "results = pcr_model.fit()\n",
    "\n",
    "# Get most of the linear regression statistics we are interested in:\n",
    "print(results.summary())\n",
    "\n",
    "# Plot a histogram of the residuals\n",
    "sns.distplot(results.resid, hist=True)\n",
    "plt.xlabel('Residual')\n",
    "plt.ylabel('Frequency')\n",
    "plt.title('Residual Histogram')"
   ]
  },
  {
   "cell_type": "markdown",
   "metadata": {},
   "source": [
    "Summary of your results!"
   ]
  },
  {
   "cell_type": "markdown",
   "metadata": {},
   "source": [
    "### n-Components:\n",
    "After running PCA on the data set and observing the explained variance in each component, I settled on 3.  The first component has a significantly larger explained variance than all of the others by orders of magnitude.  However, the next two are reasonably large once again compared to the rest, with values around 0.5.  As a result, I went with building the model with just the first 3 components.  I do have some concerns because of the distribution of residuals.  One assumption of building a linear model, is that the residuals will be normally distributed, and they obviously are not.  There must be other factors, or maybe an interaction term that would better describe the relationship.\n",
    "\n",
    "### Adjusted R-Squared:\n",
    "Going along with the last point mentioned above, the relationship doesn't appear linear.  We can see this in the adjusted R-squared value for my model is 0.03 which is very weak considering an adjusted R-squared of 0 shows no association.  I played around with the components, and checked out what the adjusted R-squared would be with the full amount of components, and it was around 0.1. I thought because this model included parameters that had close to no explained variance, that this model would not be generalizable for future datasets, so I stuck with the more simple model with 3 components."
   ]
  }
 ],
 "metadata": {
  "kernelspec": {
   "display_name": "Python 3",
   "language": "python",
   "name": "python3"
  },
  "language_info": {
   "codemirror_mode": {
    "name": "ipython",
    "version": 3
   },
   "file_extension": ".py",
   "mimetype": "text/x-python",
   "name": "python",
   "nbconvert_exporter": "python",
   "pygments_lexer": "ipython3",
   "version": "3.6.8"
  }
 },
 "nbformat": 4,
 "nbformat_minor": 2
}
