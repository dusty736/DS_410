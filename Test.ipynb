{
 "cells": [
  {
   "cell_type": "code",
   "execution_count": 1,
   "metadata": {},
   "outputs": [],
   "source": [
    "import numpy as np\n",
    "import pandas as pd"
   ]
  },
  {
   "cell_type": "code",
   "execution_count": 4,
   "metadata": {},
   "outputs": [],
   "source": [
    "a = np.array([1,2,3,4, 5])"
   ]
  },
  {
   "cell_type": "code",
   "execution_count": 3,
   "metadata": {},
   "outputs": [
    {
     "data": {
      "text/plain": [
       "array([2, 4, 6, 8])"
      ]
     },
     "execution_count": 3,
     "metadata": {},
     "output_type": "execute_result"
    }
   ],
   "source": [
    "a * 2"
   ]
  },
  {
   "cell_type": "raw",
   "metadata": {},
   "source": [
    "Lesson 01 Focused Discussion\n",
    "No unread replies. No replies.\n",
    "Which of the following is the most useful plot type to display data to stakeholders?\n",
    "\n",
    "Bar plot\n",
    "Box plot\n",
    "Histogram\n",
    "Kernal density estimation plot\n",
    "Violin plot\n",
    "In about 60 to 120 words, state your choice and then explain to your fellow students why you chose this answer\n",
    "\n",
    "Then please respond to the posting of at least one other student in about 60 to 120 words.\n",
    "\n",
    "\n",
    "I think the most useful type of plot out of the above is the kernal density estimation plot.  I that when communicating with stakeholders, simpler is better.  No matter how good your data science project is, if it doesn't translate to those who make decision, it won't be used.  The kernal density estimation plot can show all the distributuion of the data (like a histogram), and is already normalized.  This is helpful because when wanting to look at subgroups within a larger dataset, a kernal density estimation plot can show them within a normalized pdf that is visually simple enough for stakeholders."
   ]
  }
 ],
 "metadata": {
  "kernelspec": {
   "display_name": "Python 3",
   "language": "python",
   "name": "python3"
  },
  "language_info": {
   "codemirror_mode": {
    "name": "ipython",
    "version": 3
   },
   "file_extension": ".py",
   "mimetype": "text/x-python",
   "name": "python",
   "nbconvert_exporter": "python",
   "pygments_lexer": "ipython3",
   "version": "3.6.5"
  }
 },
 "nbformat": 4,
 "nbformat_minor": 2
}
